{
 "cells": [
  {
   "cell_type": "markdown",
   "metadata": {},
   "source": [
    "<img align=\"left\" src=\"./img/download image umat.jpeg\" hspace=\"20\"/> \n",
    "<br/><br/><br/><br/><br/><br/><br/>\n",
    "\n",
    "------\n",
    "\n",
    "# Introduction to Scientific Python\n",
    "\n",
    ">Dr Abdulzeid Yen Anafo (ayanafo@umat.edu.gh)\n",
    "\n",
    ">Lecturer @ University of Mines and Technology \n",
    "\n",
    "\n",
    "------\n",
    "\n",
    "## Outline\n",
    "* <span style=\"font-size:120%;\">Research computing with Python</span>\n",
    "* <span style=\"font-size:120%;\">Introduction to Python language</span>\n",
    "* <span style=\"font-size:120%;\">NumPy</span>\n",
    "* <span style=\"font-size:120%;\">SciPy</span>\n",
    "* <span style=\"font-size:120%;\">Matplotlib</span>"
   ]
  },
  {
   "cell_type": "code",
   "execution_count": null,
   "metadata": {},
   "outputs": [],
   "source": []
  }
 ],
 "metadata": {
  "kernelspec": {
   "display_name": "Python 3 (ipykernel)",
   "language": "python",
   "name": "python3"
  },
  "language_info": {
   "codemirror_mode": {
    "name": "ipython",
    "version": 3
   },
   "file_extension": ".py",
   "mimetype": "text/x-python",
   "name": "python",
   "nbconvert_exporter": "python",
   "pygments_lexer": "ipython3",
   "version": "3.9.7"
  }
 },
 "nbformat": 4,
 "nbformat_minor": 4
}

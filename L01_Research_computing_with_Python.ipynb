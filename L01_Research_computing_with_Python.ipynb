{
 "cells": [
  {
   "cell_type": "markdown",
   "metadata": {},
   "source": [
    "<img align=\"left\" src=\"./img/download image umat.jpeg\" hspace=\"20\"/> \n",
    "<br/><br/><br/><br/><br/><br/><br/>\n",
    "\n",
    "## Research computing with Python\n",
    "\n",
    "------\n",
    "\n",
    "### Workflow of research computing \n",
    "* Literature review\n",
    "* Ideas\n",
    "\t- Hypothesis formulation\n",
    "\t- Methodology\n",
    "* Data generation\n",
    "\t- Simulation - coding by yourself or use existing models (such as [LAMMPS](http://lammps.sandia.gov/doc/Manual.html) and [OpenFOAM](https://openfoam.org/))\n",
    "\t- Experiment control \n",
    "* Data analysis\n",
    "\t- Tools for data post-processing\n",
    "\t- Implementation of algorithm\n",
    "\t- Visualisation \n",
    "* Publishing your results\n",
    "\t- Manuscripts\n",
    "\t- Figures/tables/animations\n",
    "\t- Your research data and source codes might be required by reviewers so that they can reproduce and validate your published results\n",
    "\n",
    "------\n",
    "\n",
    "### Requirements in computational-based research\n",
    "_\"Just make it work\"_ is NOT enough.\n",
    "\n",
    "* Minimum standard: __reproducibility__ - both the author and other researchers are able to rerun the simulations and reproduce the same results using the data and computer code that are used to generate the published results by the author\n",
    "\n",
    "* Ultimate standard: __replicability__ - research findings/claims that invlove numerical simulations are able to be replicated by other researchers using independent methods and data (e.g. can your simulation results be validated against that of experiments?)   \n",
    "\n",
    "Therefore reproducible may _NOT_ be replicible. \n",
    "\n",
    "See: [Peng, 2011. Reproducible Research in Computational Science. DOI: 10.1126/science.1213847](http://science.sciencemag.org/content/334/6060/1226.full) \n",
    "\n",
    "------\n",
    "\n",
    "### Why Python\n",
    "Python is a modern, fully-featured, general-purpose, high-level interpreted language, and supports multiple programming paradigms, e.g. object-oriented and functional programming.\n",
    "\n",
    "* Easy to learn and quick to program in - more time on scientific thinking, less time on programming. Note that our main work is research.\n",
    "* Dynamically-typed and automatic memory management - No need to define types for variables and functions. No need to manually allocate and deallocate memory for data arrays \n",
    "* Expressive - not only readable, but also concise "
   ]
  },
  {
   "cell_type": "code",
   "execution_count": null,
   "metadata": {
    "collapsed": true,
    "jupyter": {
     "outputs_hidden": true
    }
   },
   "outputs": [
    {
     "name": "stdout",
     "output_type": "stream",
     "text": [
      "['Adam', 'James']\n"
     ]
    }
   ],
   "source": [
    "persons = [name for name in [\"Adam\", \"James\", \"Dan\", \"Smith\"] if name.startswith(\"A\") or name.endswith(\"s\")]\n",
    "print(persons)"
   ]
  },
  {
   "cell_type": "markdown",
   "metadata": {},
   "source": [
    "* Very rich collection of numerical libraries, scientifc packages and visualisation functionalities - [Numpy](http://www.numpy.org/), [Scipy](https://www.scipy.org/scipylib/index.html), [SymPy](http://www.sympy.org/en/index.html), [Matplotlib](https://matplotlib.org/), [PyQtGraph](http://www.pyqtgraph.org/) and etc.\n",
    "* A variety of development environments\n",
    "\t- Interactive: [IPython](https://ipython.org/) and [Jupyter notebooks](https://jupyter.org/). \n",
    "\t- IDE: [PyCharm](https://www.jetbrains.com/pycharm/), [Spyder](https://pythonhosted.org/spyder/) and [Eclipse](http://www.eclipse.org/) with [PyDev](http://www.pydev.org/) plugin. Note that PyCharm also supports IPython and Jupyter notebooks.\n",
    "* Interfacing with C/C++/Fortran - leave heavy computations with C/C++/Fortran and use Python as \"glue\" or \"wapper\". F2py (included in Numpy) for Fortran and [Cython](http://cython.org/)/[SWIG](http://www.swig.org/) for C/C++\n",
    "* Good support for parallel computing - e.g. [Multiprocessing](https://docs.python.org/2/library/multiprocessing.html) for shared memory system, MPI based [MPI4Py](http://mpi4py.readthedocs.io/en/stable/) for distributed memory system and [PyCUDA](https://mathema.tician.de/software/pycuda/) for GPU computing  \n",
    "* Free, open source and large user community\n",
    "\n",
    "Useful links:\n",
    ">Python documentation official site: [https://www.python.org/doc/](https://www.python.org/doc/)<br/>\n",
    ">Python scientific computing ecosystem: [https://www.scipy.org/](https://www.scipy.org/); [http://www.scipy-lectures.org/intro/intro.html](http://www.scipy-lectures.org/intro/intro.html)<br/>\n",
    ">Think Python: [http://greenteapress.com/thinkpython/thinkpython.pdf](http://greenteapress.com/thinkpython/thinkpython.pdf)"
   ]
  }
 ],
 "metadata": {
  "kernelspec": {
   "display_name": "Python 3 (ipykernel)",
   "language": "python",
   "name": "python3"
  },
  "language_info": {
   "codemirror_mode": {
    "name": "ipython",
    "version": 3
   },
   "file_extension": ".py",
   "mimetype": "text/x-python",
   "name": "python",
   "nbconvert_exporter": "python",
   "pygments_lexer": "ipython3",
   "version": "3.9.7"
  }
 },
 "nbformat": 4,
 "nbformat_minor": 4
}
